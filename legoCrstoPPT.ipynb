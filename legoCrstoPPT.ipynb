{
 "cells": [
  {
   "cell_type": "code",
   "execution_count": 7,
   "metadata": {},
   "outputs": [
    {
     "name": "stdout",
     "output_type": "stream",
     "text": [
      "\n",
      "正在处理……完成，文件名：/home/jack/data/乐高/图纸/027小区的栏杆门/027小区的栏杆门.pptx\n"
     ]
    }
   ],
   "source": [
    "import os\n",
    "import platform\n",
    "import re\n",
    "from pptx import Presentation\n",
    "from pptx.enum.shapes import MSO_SHAPE\n",
    "from pptx.util import Cm,Pt,Cm\n",
    "\n",
    "class picToPPT:\n",
    "    def __init__(self,picSrc):\n",
    "        if platform.system().lower()=='linux':\n",
    "            self.template='/home/jack/data/乐高/图纸/template.pptx'\n",
    "            self.wtmark='/home/jack/data/乐高/图纸/大智小超水印.png'\n",
    "        else:\n",
    "            self.template='i:/乐高/图纸/template.pptx'\n",
    "            self.wtmark='i:/乐高/图纸/大智小超水印.png'\n",
    "        self.picSrc=picSrc\n",
    "    \n",
    "    def ReadPPT(self):\n",
    "        print('\\n正在处理……',end='')       \n",
    "    \n",
    "        def picList():\n",
    "            ptn=r'\\d.*png'\n",
    "            picList=[]\n",
    "            for fn in os.listdir(self.picSrc):\n",
    "                if re.match(ptn,fn):\n",
    "                    picList.append(os.path.join(self.picSrc,fn))\n",
    "            picList.sort()\n",
    "#             print(picList)\n",
    "            return picList\n",
    "\n",
    "        def picToPPT(picList):\n",
    "            prs=Presentation(self.template)            \n",
    "            left=Cm(0)\n",
    "            top=Cm(1.4)\n",
    "            height=Cm(17.69)\n",
    "            \n",
    "            left_wtmk=Cm(5)\n",
    "            top_wtmk=Cm(5)\n",
    "            \n",
    "            for img in picList:\n",
    "                blank_slide_layout=prs.slide_layouts[1]\n",
    "                slide=prs.slides.add_slide(blank_slide_layout)\n",
    "                pic=slide.shapes.add_picture(img,left,top,height=height)\n",
    "                pic_wtmark=slide.shapes.add_picture(self.wtmark,left_wtmk,top_wtmk)\n",
    "                \n",
    "            newFn=os.path.join(self.picSrc,self.picSrc.split('/')[-1]+'.pptx')\n",
    "            prs.save(newFn)\n",
    "            print('完成，文件名：{}'.format(newFn))       \n",
    "            return newFn\n",
    "            \n",
    "        def putWtMark(ppt):            \n",
    "            left=Cm(0)\n",
    "            top=Cm(1.4)\n",
    "            prs=Presentation(ppt)           \n",
    "            \n",
    "            for slide in prs.slides:\n",
    "                pic=slide.shapes.add_picture(self.wtmark,left,top)\n",
    "#             print(len(prs.slides))\n",
    "            \n",
    "            \n",
    "            \n",
    "        picList=picList()\n",
    "        newPPT=picToPPT(picList)  \n",
    "#         putWtMark(newPPT)\n",
    "        \n",
    "        \n",
    "if __name__=='__main__':\n",
    "    mypics=picToPPT('/home/jack/data/乐高/图纸/027小区的栏杆门')\n",
    "    mypics.ReadPPT()"
   ]
  },
  {
   "cell_type": "code",
   "execution_count": 3,
   "metadata": {},
   "outputs": [
    {
     "name": "stdout",
     "output_type": "stream",
     "text": [
      "linux\n"
     ]
    }
   ],
   "source": [
    "import platform\n",
    "\n",
    "print(platform.system().lower())"
   ]
  }
 ],
 "metadata": {
  "kernelspec": {
   "display_name": "Python 3.7.4 64-bit ('base': conda)",
   "language": "python",
   "name": "python37464bitbasecondae2ab51a36111499f9cc9da74f829a7d0"
  },
  "language_info": {
   "codemirror_mode": {
    "name": "ipython",
    "version": 3
   },
   "file_extension": ".py",
   "mimetype": "text/x-python",
   "name": "python",
   "nbconvert_exporter": "python",
   "pygments_lexer": "ipython3",
   "version": "3.8.0"
  }
 },
 "nbformat": 4,
 "nbformat_minor": 4
}
