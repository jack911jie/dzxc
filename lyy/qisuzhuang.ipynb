{
 "cells": [
  {
   "cell_type": "code",
   "execution_count": 74,
   "metadata": {
    "code_folding": [
     50
    ]
   },
   "outputs": [
    {
     "name": "stdout",
     "output_type": "stream",
     "text": [
      "['广西长荣海运有限公司', '南宁市青秀区民族大道159号凤岭·新新家园A区2栋2701-2703号房', '南方担保抵字20180024801号', '高名清']\n"
     ]
    }
   ],
   "source": [
    "import docx\n",
    "import os\n",
    "import re\n",
    "\n",
    "import logging\n",
    " \n",
    "logging.basicConfig(level=logging.DEBUG, format=' %(levelname)s - %(lineno)d 行- %(message)s')\n",
    "logger = logging.getLogger(__name__)\n",
    "\n",
    "class qisuzhuang:\n",
    "    def __init__(self,fn):\n",
    "        self.pth=os.getcwd()\n",
    "        self.fn=os.path.join(self.pth,fn)\n",
    "    \n",
    "    def readdocx(self):\n",
    "        doc=docx.Document(self.fn)\n",
    "        prghs=doc.paragraphs\n",
    "        txts=''\n",
    "        for prgh in prghs:\n",
    "            txts=txts+prgh.text+'\\n'\n",
    "        \n",
    "#         logger.info(txts)\n",
    "#         print(txts)\n",
    "        \n",
    "        out=[]\n",
    "        ptn_jiafang=r'甲方.+：.+\\s'\n",
    "        t_jiafang=re.findall(ptn_jiafang,txts)\n",
    "        self.addto(out,t_jiafang[0].strip())\n",
    "        \n",
    "        \n",
    "        ptn_address=r'联系地址.+\\s'\n",
    "        t_address=re.findall(ptn_address,txts)\n",
    "        self.addto(out,t_address[0].strip())\n",
    "        \n",
    "        \n",
    "        ptn_num=r'编号：.*\\s'\n",
    "        t_num=re.findall(ptn_num,txts)\n",
    "        self.addto(out,t_num[0].strip())\n",
    "        \n",
    "        ptn_faren=r'法定代表人：.*\\s'\n",
    "        t_faren=re.findall(ptn_faren,txts)\n",
    "        self.addto(out,t_faren[0].strip())\n",
    "\n",
    "        \n",
    "        self.out=out\n",
    "        return out\n",
    "#         print(out)\n",
    "        \n",
    "    def writedocx(self,t=''):\n",
    "        fn=os.path.join(self.pth,'out起诉状.docx')\n",
    "        \n",
    "        template='原告：南宁市南方融资担保有限公司（原南宁市南方融资性担保有限公司）\\n \\\n",
    "            住所地：南宁市青秀区朱槿路16号菲律宾园·金菲豪园2号楼第4层， 统一社会信用代码：9145010071887353X5。\\n \\\n",
    "            法定代表人：李文鸿，职务：董事长。 \\n \\\n",
    "            被告一：{0}\\n住所地：{1}；注册号：XXXXXXXXXXX(工商未变更三证合一时需填写)，统一社会信用代码: 。\\n \\\n",
    "            法定代表人：XX，职务：XXXXXXXX。'\n",
    "        \n",
    "        txt_in=self.cut(t)\n",
    "        print(txt_in)\n",
    "        \n",
    "        doc=docx.Document()\n",
    "        doc.add_heading('民事起诉状') \n",
    "        p = doc.add_paragraph(template.format(txt_in[0],txt_in[1]))\n",
    "        \n",
    "        doc.save(fn)\n",
    "        \n",
    "    def addto(self,lst,t):\n",
    "        if t:\n",
    "            lst.append(t)\n",
    "        else:\n",
    "            lst.append('')\n",
    "            \n",
    "        return lst\n",
    "    \n",
    "    def cut(self,t):\n",
    "        res=[]\n",
    "        ptn=r'(?<=：).*|(?<=: ).*'\n",
    "        for i in t:\n",
    "            try:\n",
    "                res.append(re.findall(ptn,i)[0])\n",
    "            except Exception as e:\n",
    "                res.append(i)\n",
    "                \n",
    "        return res\n",
    "    \n",
    "    \n",
    "        \n",
    "        \n",
    "if __name__=='__main__':\n",
    "    qszh=qisuzhuang('6最高额反担保抵押合同-长荣16.docx')\n",
    "    txt=qszh.readdocx()\n",
    "    qszh.writedocx(txt)\n",
    "\n",
    "    \n",
    "    "
   ]
  },
  {
   "cell_type": "code",
   "execution_count": 34,
   "metadata": {},
   "outputs": [
    {
     "name": "stdout",
     "output_type": "stream",
     "text": [
      "广西长荣海运有限公司\n"
     ]
    }
   ],
   "source": [
    "a='甲方（抵押人）：广西长荣海运有限公司'\n",
    "b=a.find('：')\n",
    "print(a[b+1:])"
   ]
  }
 ],
 "metadata": {
  "kernelspec": {
   "display_name": "Python 3.7.4 64-bit ('base': conda)",
   "language": "python",
   "name": "python37464bitbasecondae2ab51a36111499f9cc9da74f829a7d0"
  },
  "language_info": {
   "codemirror_mode": {
    "name": "ipython",
    "version": 3
   },
   "file_extension": ".py",
   "mimetype": "text/x-python",
   "name": "python",
   "nbconvert_exporter": "python",
   "pygments_lexer": "ipython3",
   "version": "3.7.4"
  },
  "toc": {
   "base_numbering": 1,
   "nav_menu": {},
   "number_sections": true,
   "sideBar": true,
   "skip_h1_title": false,
   "title_cell": "Table of Contents",
   "title_sidebar": "Contents",
   "toc_cell": false,
   "toc_position": {},
   "toc_section_display": true,
   "toc_window_display": false
  }
 },
 "nbformat": 4,
 "nbformat_minor": 4
}
