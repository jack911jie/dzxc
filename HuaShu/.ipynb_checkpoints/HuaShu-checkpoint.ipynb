{
 "cells": [
  {
   "cell_type": "code",
   "execution_count": 31,
   "metadata": {},
   "outputs": [
    {
     "name": "stdout",
     "output_type": "stream",
     "text": [
      "完成\n"
     ]
    }
   ],
   "source": [
    "import os\n",
    "import pandas as pd\n",
    "import json\n",
    "\n",
    "class huashu:\n",
    "    def __init__(self):\n",
    "        with open (os.path.join(os.getcwd(),'HuaShu','HuaShu.config'),'r',encoding='utf-8') as f:\n",
    "            lines=f.readlines()\n",
    "            \n",
    "            _line=''\n",
    "            for line in lines:\n",
    "                _line=_line+line\n",
    "            \n",
    "            config=json.loads(_line)\n",
    "            self.StdSig=config['学员签到表']\n",
    "            self.CrsTable=config['wedo课程表']\n",
    "            self.expDir=config['话术导出文件夹']\n",
    "            self.talkModule='亲爱的家长：\\n这是{0}本周科学机器《{1}》课堂反馈，本节课的主要学习内容是：\\n{2}\\n通过这些照片希望您也能感受到小朋友在课堂中的学习！探索的乐趣！学习的乐趣！\\n希望您和老师一起多鼓励、多激发、多培养孩子的好奇探索之心！'\n",
    "            \n",
    "        \n",
    "    def legoTalk(self,crsname):\n",
    "        stds=pd.read_excel(self.StdSig,skiprows=2)\n",
    "        stds.dropna(axis=1,how='all',inplace=True)\n",
    "        stds.rename(columns={'Unnamed: 0':'幼儿园','Unnamed: 1':'班级','Unnamed: 2':'姓名首拼','Unnamed: 3':'性别','Unnamed: 4':'姓名'},inplace=True)\n",
    "#         stdIn=stds[stds[crsname]=='√'][['姓名首拼','姓名',crsname]]\n",
    "        stdIn=stds[['姓名首拼','姓名',crsname]]\n",
    "        \n",
    "        crs=pd.read_excel(self.CrsTable)\n",
    "        crs_klg=crs[crs['课程名称']==crsname]['知识点'].tolist()[0]\n",
    "\n",
    "        stdIn=stdIn.assign(话术='-')\n",
    "        \n",
    "        for std in stdIn['姓名'].tolist():\n",
    "            txt=self.talkModule.format(std,crsname,crs_klg)\n",
    "            k=stdIn['话术'][(stdIn['姓名']==std) & (stdIn[crsname]=='√')]=txt\n",
    "        out=stdIn[['姓名首拼','姓名','话术']]\n",
    "#         print(stdIn)\n",
    "        \n",
    "        writer = pd.ExcelWriter(os.path.join(self.expDir,'导出话术.xlsx'))\n",
    "        out.to_excel(writer)\n",
    "        writer.save()\n",
    "        print('完成')\n",
    "        \n",
    "if __name__=='__main__':\n",
    "    talk=huashu()\n",
    "    talk.legoTalk('爷爷的钓鱼竿')\n",
    "    "
   ]
  }
 ],
 "metadata": {
  "kernelspec": {
   "display_name": "Python 3",
   "language": "python",
   "name": "python3"
  },
  "language_info": {
   "codemirror_mode": {
    "name": "ipython",
    "version": 3
   },
   "file_extension": ".py",
   "mimetype": "text/x-python",
   "name": "python",
   "nbconvert_exporter": "python",
   "pygments_lexer": "ipython3",
   "version": "3.8.5"
  }
 },
 "nbformat": 4,
 "nbformat_minor": 4
}
