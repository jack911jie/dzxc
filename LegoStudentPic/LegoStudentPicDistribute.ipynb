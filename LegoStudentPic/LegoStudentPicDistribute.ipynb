{
 "cells": [
  {
   "cell_type": "code",
   "execution_count": 2,
   "metadata": {
    "tags": []
   },
   "outputs": [
    {
     "output_type": "stream",
     "name": "stdout",
     "text": [
      "将打标签的照片分配到“I:\\每周乐高课_学员”中……\n",
      "\n",
      "……完成\n"
     ]
    }
   ],
   "source": [
    "import os\n",
    "import iptcinfo3\n",
    "import logging\n",
    "import json\n",
    "import shutil\n",
    " \n",
    "# logging.basicConfig(level=logging.DEBUG, format='%(asctime)s - %(name)s - %(levelname)s - %(message)s')\n",
    "logging.basicConfig(level=logging.ERROR, format='%(levelname)s | %(funcName)s - 第 %(lineno)d 行 - %(message)s')\n",
    "logger = logging.getLogger(__name__)\n",
    "\n",
    "class LegoPics:\n",
    "    def __init__(self,crsName):\n",
    "        with open(os.path.join(os.getcwd(),'config.txt'),'r',encoding='utf-8') as f:\n",
    "            lines=f.readlines()\n",
    "            _line=''\n",
    "            for line in lines:\n",
    "                newLine=line.strip('\\n')\n",
    "                _line=_line+newLine\n",
    "                \n",
    "            config=json.loads(_line)\n",
    "            \n",
    "        self.crsName=crsName\n",
    "        self.dir=config['乐高照片文件夹']\n",
    "        self.stu_dir=config['乐高学员文件夹']\n",
    "        \n",
    "    def dispatch(self):\n",
    "        print('将打标签的照片分配到“I:\\\\每周乐高课_学员”中……')\n",
    "        for fn in os.listdir(os.path.join(self.dir,self.crsName)):\n",
    "            if fn[-3:].lower()=='jpg':\n",
    "#                 if iptcinfo3.IPTCInfo(os.path.join(self.dir,fn)):\n",
    "                tag=code_to_str(iptcinfo3.IPTCInfo(os.path.join(self.dir,self.crsName,fn)))                \n",
    "                if len(tag)>0:\n",
    "                    for _tag in tag:\n",
    "                        stu_dirName=os.path.join(self.stu_dir,self.crsName,fn)\n",
    "                        stu_pic_dirName=os.path.join(self.stu_dir,_tag)\n",
    "                        if not os.path.exists(stu_pic_dirName):\n",
    "                            os.makedirs(stu_pic_dirName)\n",
    "                            oldName=os.path.join(self.dir,self.crsName,fn)\n",
    "                            newName=os.path.join(self.stu_dir,_tag,fn)\n",
    "                            shutil.copyfile(oldName,newName)\n",
    "                        else:\n",
    "                            oldName=os.path.join(self.dir,self.crsName,fn)\n",
    "                            newName=os.path.join(self.stu_dir,_tag,fn)\n",
    "                            shutil.copyfile(oldName,newName)\n",
    "        \n",
    "\n",
    "        print('\\n……完成')\n",
    "\n",
    "            \n",
    "            \n",
    "def code_to_str(ss):\n",
    "    s=ss['keywords']\n",
    "    if isinstance(s,list):\n",
    "        out=[]\n",
    "        for i in s:\n",
    "            out.append(i.decode('utf-8'))\n",
    "    else:\n",
    "        out=[ss.decode('utf-8')]\n",
    "   \n",
    "#     print(out)\n",
    "    return out\n",
    "\n",
    "\n",
    "if __name__=='__main__':\n",
    "    stu_pics=LegoPics('20201013夏天的手摇风扇')\n",
    "    stu_pics.dispatch()\n"
   ]
  }
 ],
 "metadata": {
  "kernelspec": {
   "display_name": "Python 3",
   "language": "python",
   "name": "python3"
  },
  "language_info": {
   "codemirror_mode": {
    "name": "ipython",
    "version": 3
   },
   "file_extension": ".py",
   "mimetype": "text/x-python",
   "name": "python",
   "nbconvert_exporter": "python",
   "pygments_lexer": "ipython3",
   "version": "3.8.3-final"
  }
 },
 "nbformat": 4,
 "nbformat_minor": 4
}