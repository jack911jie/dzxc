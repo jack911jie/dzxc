{
 "cells": [
  {
   "cell_type": "code",
   "execution_count": null,
   "metadata": {
    "code_folding": [
     33
    ],
    "scrolled": false
   },
   "outputs": [],
   "source": [
    "import os\n",
    "import re\n",
    "from moviepy.editor import *\n",
    "import moviepy.audio.fx.all as afx\n",
    "import pandas as pd\n",
    "import numpy as np\n",
    "from PIL import Image\n",
    "from PIL import ImageDraw  \n",
    "from PIL import ImageFont\n",
    "import psutil\n",
    "\n",
    "class SciMovie:\n",
    "    def __init__(self,pth,vName):\n",
    "        self.pth=pth\n",
    "        self.vName=vName\n",
    "        \n",
    "    def expt(self):\n",
    "        mainV_src=os.path.join(self.pth,self.vName)\n",
    "        \n",
    "        clips=[]\n",
    "        \n",
    "        \n",
    "        mainvideo=VideoFileClip(mainV_src)\n",
    "        clips.append(mainvideo)\n",
    "        \n",
    "        bgclip=ColorClip(size=(1920,60),color=[255,255,255]).set_opacity(0.6).set_position((0,1000)).set_start(5).set_duration(35)\n",
    "        clips.append(bgclip)\n",
    "        \n",
    "        text = TextClip(txt=\"测试测试测试测试测试测试测试测试测试测试\", \\\n",
    "                fontsize=40, \\\n",
    "                font='Microsoft-YaHei-&-Microsoft-YaHei-UI',color='#0F418B') \\\n",
    "                .set_pos((0,1005)) \\\n",
    "                .set_start(5) \\\n",
    "                .set_duration(35)\n",
    "        clips.append(text)\n",
    "        \n",
    "        finalclip = CompositeVideoClip(clips)\n",
    "        outName=os.path.join(self.pth,'out.mp4')\n",
    "        finalclip.write_videofile(outName)\n",
    "        self.killProcess()\n",
    "        \n",
    "    def killProcess(self):\n",
    "        # 处理python程序在运行中出现的异常和错误\n",
    "        try:\n",
    "            # pids方法查看系统全部进程\n",
    "            pids = psutil.pids()\n",
    "            for pid in pids:\n",
    "                # Process方法查看单个进程\n",
    "                p = psutil.Process(pid)\n",
    "                # print('pid-%s,pname-%s' % (pid, p.name()))\n",
    "                # 进程名\n",
    "                if p.name() == 'ffmpeg-win64-v4.1.exe':\n",
    "                    # 关闭任务 /f是强制执行，/im对应程序名\n",
    "                    cmd = 'taskkill /f /im ffmpeg-win64-v4.1.exe  2>nul 1>null'\n",
    "                    # python调用Shell脚本执行cmd命令\n",
    "                    os.system(cmd)\n",
    "        except:\n",
    "            pass\n",
    "        \n",
    "if __name__=='__main__':\n",
    "    myMovie=SciMovie('I:\\\\大智小超\\\\tello','12月视频.mp4')\n",
    "    myMovie.expt()"
   ]
  }
 ],
 "metadata": {
  "kernelspec": {
   "display_name": "Python 3.7.4 64-bit ('base': conda)",
   "language": "python",
   "name": "python37464bitbasecondaae9dddbca60f4ee2b2ed001d01f0a8f8"
  },
  "language_info": {
   "codemirror_mode": {
    "name": "ipython",
    "version": 3
   },
   "file_extension": ".py",
   "mimetype": "text/x-python",
   "name": "python",
   "nbconvert_exporter": "python",
   "pygments_lexer": "ipython3",
   "version": "3.7.4"
  },
  "toc": {
   "base_numbering": 1,
   "nav_menu": {},
   "number_sections": true,
   "sideBar": true,
   "skip_h1_title": false,
   "title_cell": "Table of Contents",
   "title_sidebar": "Contents",
   "toc_cell": false,
   "toc_position": {},
   "toc_section_display": true,
   "toc_window_display": false
  }
 },
 "nbformat": 4,
 "nbformat_minor": 4
}
