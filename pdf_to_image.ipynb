{
 "cells": [
  {
   "cell_type": "code",
   "execution_count": 74,
   "metadata": {
    "code_folding": [
     30
    ],
    "scrolled": false
   },
   "outputs": [
    {
     "name": "stdout",
     "output_type": "stream",
     "text": [
      "正在调整图片大小至1024x576... \n",
      "\n",
      "done \n",
      "\n"
     ]
    }
   ],
   "source": [
    "import os\n",
    "import time\n",
    "from tqdm import tqdm\n",
    "from PIL import Image\n",
    "from pdf2image import convert_from_path,convert_from_bytes\n",
    "import tempfile\n",
    "from pdf2image.exceptions import (\n",
    "    PDFInfoNotInstalledError,\n",
    "    PDFPageCountError,\n",
    "    PDFSyntaxError\n",
    ")\n",
    "\n",
    "class pdfToImage:\n",
    "    def __init__(self,pdfname, imagePath, *pageNum):\n",
    "        self.pdfname=pdfname\n",
    "        self.imagePath=imagePath\n",
    "        self.pagenum=pageNum\n",
    "        \n",
    "    def pdf2image(self):\n",
    "        pgns=self.outpageNum()\n",
    "\n",
    "        \n",
    "        with tempfile.TemporaryDirectory() as path:\n",
    "            print(\"正在读取Pdf文件…… \\n\")\n",
    "            images_from_path = convert_from_path(self.pdfname, output_folder=path, dpi=96)\n",
    "            print(\"文件总页数 {} 页。 \\n\".format(len(images_from_path)))\n",
    "            print(\"正在转换…… \\n\")   \n",
    "            time.sleep(0.5)\n",
    "            for pgn in tqdm(pgns):\n",
    "                if not os.path.exists(self.imagePath):\n",
    "                    os.makedirs(self.imagePath)\n",
    "                images_from_path[int(pgn)].save(self.imagePath+'/'+'psReport_%s.jpg' % str(int(pgn+1)).zfill(3),'jpeg')\n",
    "#             print(images_from_path)\n",
    "        print(\"done\")\n",
    "    \n",
    "    def image_adj(self,w,h):\n",
    "        \n",
    "        print(\"正在调整图片大小至{0}x{1}... \\n\".format(w,h))\n",
    "        for pic in os.listdir(self.imagePath):            \n",
    "            if pic[-3:].lower()==\"jpg\":\n",
    "                _img=Image.open(os.path.join(self.imagePath,pic))\n",
    "                img=_img.resize((w,h))\n",
    "                img.save(os.path.join(self.imagePath,pic))\n",
    "        print(\"done \\n\")\n",
    "                                                \n",
    "\n",
    "    def outpageNum(self):\n",
    "        pgn=[]\n",
    "        \n",
    "        if isinstance(self.pagenum[0],str):\n",
    "            if \"-\" in self.pagenum[0]:\n",
    "                firstpage=self.pagenum[0][:self.pagenum[0].find(\"-\")]\n",
    "                lastpage=self.pagenum[0][self.pagenum[0].find(\"-\")+1:]\n",
    "                for i in range(int(firstpage)-1,int(lastpage)-1):\n",
    "                    pgn.append(i)\n",
    "                pgn.append(int(lastpage)-1) #包括最后一页\n",
    "            else:\n",
    "                pass\n",
    "        else:\n",
    "            pgn=[int(x)-1 for x in self.pagenum]\n",
    "\n",
    "        return pgn\n",
    "        \n",
    "    \n",
    "if __name__==\"__main__\":\n",
    "    pdf='//home//jack//文档//大智小超//乐高教育.pdf'\n",
    "    jpg='//home//jack//文档//大智小超/output_pdf'\n",
    "    \n",
    "    pdf=pdfToImage(pdf,jpg,7,9,12,18)\n",
    "#     pdf.pdf2image()\n",
    "    pdf.image_adj(1024,576)\n",
    "    "
   ]
  },
  {
   "cell_type": "code",
   "execution_count": 68,
   "metadata": {},
   "outputs": [
    {
     "name": "stderr",
     "output_type": "stream",
     "text": [
      "100%|██████████| 4/4 [00:02<00:00,  1.99it/s]\n"
     ]
    }
   ],
   "source": [
    "import time\n",
    "from tqdm import tqdm\n",
    "# from tqdm.std import trange\n",
    " \n",
    "a=[3,8,9,12]\n",
    "for i in tqdm(a):\n",
    "    time.sleep(0.5)"
   ]
  }
 ],
 "metadata": {
  "kernelspec": {
   "display_name": "Python 3",
   "language": "python",
   "name": "python3"
  },
  "language_info": {
   "codemirror_mode": {
    "name": "ipython",
    "version": 3
   },
   "file_extension": ".py",
   "mimetype": "text/x-python",
   "name": "python",
   "nbconvert_exporter": "python",
   "pygments_lexer": "ipython3",
   "version": "3.6.9"
  },
  "toc": {
   "base_numbering": 1,
   "nav_menu": {},
   "number_sections": true,
   "sideBar": true,
   "skip_h1_title": false,
   "title_cell": "Table of Contents",
   "title_sidebar": "Contents",
   "toc_cell": false,
   "toc_position": {},
   "toc_section_display": true,
   "toc_window_display": false
  }
 },
 "nbformat": 4,
 "nbformat_minor": 4
}
