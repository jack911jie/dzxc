{
 "cells": [
  {
   "cell_type": "code",
   "execution_count": 4,
   "metadata": {},
   "outputs": [
    {
     "name": "stdout",
     "output_type": "stream",
     "text": "正在调整图片大小至1024x576... \n\n"
    },
    {
     "ename": "FileNotFoundError",
     "evalue": "[Errno 2] No such file or directory: '//home//jack//data//大智小超//乐高//图纸//output_pdf'",
     "output_type": "error",
     "traceback": [
      "\u001b[0;31m---------------------------------------------------------------------------\u001b[0m",
      "\u001b[0;31mFileNotFoundError\u001b[0m                         Traceback (most recent call last)",
      "\u001b[0;32m<ipython-input-4-7b8b5453c18d>\u001b[0m in \u001b[0;36m<module>\u001b[0;34m\u001b[0m\n\u001b[1;32m     70\u001b[0m     \u001b[0mpdf\u001b[0m\u001b[0;34m=\u001b[0m\u001b[0mpdfToImage\u001b[0m\u001b[0;34m(\u001b[0m\u001b[0mpdf\u001b[0m\u001b[0;34m,\u001b[0m\u001b[0mjpg\u001b[0m\u001b[0;34m,\u001b[0m\u001b[0;36m7\u001b[0m\u001b[0;34m,\u001b[0m\u001b[0;36m9\u001b[0m\u001b[0;34m,\u001b[0m\u001b[0;36m12\u001b[0m\u001b[0;34m,\u001b[0m\u001b[0;36m18\u001b[0m\u001b[0;34m)\u001b[0m\u001b[0;34m\u001b[0m\u001b[0;34m\u001b[0m\u001b[0m\n\u001b[1;32m     71\u001b[0m \u001b[0;31m#     pdf.pdf2image()\u001b[0m\u001b[0;34m\u001b[0m\u001b[0;34m\u001b[0m\u001b[0;34m\u001b[0m\u001b[0m\n\u001b[0;32m---> 72\u001b[0;31m     \u001b[0mpdf\u001b[0m\u001b[0;34m.\u001b[0m\u001b[0mimage_adj\u001b[0m\u001b[0;34m(\u001b[0m\u001b[0;36m1024\u001b[0m\u001b[0;34m,\u001b[0m\u001b[0;36m576\u001b[0m\u001b[0;34m)\u001b[0m\u001b[0;34m\u001b[0m\u001b[0;34m\u001b[0m\u001b[0m\n\u001b[0m\u001b[1;32m     73\u001b[0m \u001b[0;34m\u001b[0m\u001b[0m\n",
      "\u001b[0;32m<ipython-input-4-7b8b5453c18d>\u001b[0m in \u001b[0;36mimage_adj\u001b[0;34m(self, w, h)\u001b[0m\n\u001b[1;32m     37\u001b[0m \u001b[0;34m\u001b[0m\u001b[0m\n\u001b[1;32m     38\u001b[0m         \u001b[0mprint\u001b[0m\u001b[0;34m(\u001b[0m\u001b[0;34m\"正在调整图片大小至{0}x{1}... \\n\"\u001b[0m\u001b[0;34m.\u001b[0m\u001b[0mformat\u001b[0m\u001b[0;34m(\u001b[0m\u001b[0mw\u001b[0m\u001b[0;34m,\u001b[0m\u001b[0mh\u001b[0m\u001b[0;34m)\u001b[0m\u001b[0;34m)\u001b[0m\u001b[0;34m\u001b[0m\u001b[0;34m\u001b[0m\u001b[0m\n\u001b[0;32m---> 39\u001b[0;31m         \u001b[0;32mfor\u001b[0m \u001b[0mpic\u001b[0m \u001b[0;32min\u001b[0m \u001b[0mos\u001b[0m\u001b[0;34m.\u001b[0m\u001b[0mlistdir\u001b[0m\u001b[0;34m(\u001b[0m\u001b[0mself\u001b[0m\u001b[0;34m.\u001b[0m\u001b[0mimagePath\u001b[0m\u001b[0;34m)\u001b[0m\u001b[0;34m:\u001b[0m\u001b[0;34m\u001b[0m\u001b[0;34m\u001b[0m\u001b[0m\n\u001b[0m\u001b[1;32m     40\u001b[0m             \u001b[0;32mif\u001b[0m \u001b[0mpic\u001b[0m\u001b[0;34m[\u001b[0m\u001b[0;34m-\u001b[0m\u001b[0;36m3\u001b[0m\u001b[0;34m:\u001b[0m\u001b[0;34m]\u001b[0m\u001b[0;34m.\u001b[0m\u001b[0mlower\u001b[0m\u001b[0;34m(\u001b[0m\u001b[0;34m)\u001b[0m\u001b[0;34m==\u001b[0m\u001b[0;34m\"jpg\"\u001b[0m\u001b[0;34m:\u001b[0m\u001b[0;34m\u001b[0m\u001b[0;34m\u001b[0m\u001b[0m\n\u001b[1;32m     41\u001b[0m                 \u001b[0m_img\u001b[0m\u001b[0;34m=\u001b[0m\u001b[0mImage\u001b[0m\u001b[0;34m.\u001b[0m\u001b[0mopen\u001b[0m\u001b[0;34m(\u001b[0m\u001b[0mos\u001b[0m\u001b[0;34m.\u001b[0m\u001b[0mpath\u001b[0m\u001b[0;34m.\u001b[0m\u001b[0mjoin\u001b[0m\u001b[0;34m(\u001b[0m\u001b[0mself\u001b[0m\u001b[0;34m.\u001b[0m\u001b[0mimagePath\u001b[0m\u001b[0;34m,\u001b[0m\u001b[0mpic\u001b[0m\u001b[0;34m)\u001b[0m\u001b[0;34m)\u001b[0m\u001b[0;34m\u001b[0m\u001b[0;34m\u001b[0m\u001b[0m\n",
      "\u001b[0;31mFileNotFoundError\u001b[0m: [Errno 2] No such file or directory: '//home//jack//data//大智小超//乐高//图纸//output_pdf'"
     ]
    }
   ],
   "source": [
    "import os\n",
    "import time\n",
    "from tqdm import tqdm\n",
    "from PIL import Image\n",
    "from pdf2image import convert_from_path,convert_from_bytes\n",
    "import tempfile\n",
    "from pdf2image.exceptions import (\n",
    "    PDFInfoNotInstalledError,\n",
    "    PDFPageCountError,\n",
    "    PDFSyntaxError\n",
    ")\n",
    "\n",
    "class pdfToImage:\n",
    "    def __init__(self,pdfname, imagePath, *pageNum):\n",
    "        self.pdfname=pdfname\n",
    "        self.imagePath=imagePath\n",
    "        self.pagenum=pageNum\n",
    "        \n",
    "    def pdf2image(self):\n",
    "        pgns=self.outpageNum()\n",
    "\n",
    "        \n",
    "        with tempfile.TemporaryDirectory() as path:\n",
    "            print(\"正在读取Pdf文件…… \\n\")\n",
    "            images_from_path = convert_from_path(self.pdfname, output_folder=path, dpi=96)\n",
    "            print(\"文件总页数 {} 页。 \\n\".format(len(images_from_path)))\n",
    "            print(\"正在转换…… \\n\")   \n",
    "            time.sleep(0.5)\n",
    "            for pgn in tqdm(pgns):\n",
    "                if not os.path.exists(self.imagePath):\n",
    "                    os.makedirs(self.imagePath)\n",
    "                images_from_path[int(pgn)].save(self.imagePath+'/'+'psReport_%s.jpg' % str(int(pgn+1)).zfill(3),'jpeg')\n",
    "#             print(images_from_path)\n",
    "        print(\"done\")\n",
    "    \n",
    "    def image_adj(self,w,h):\n",
    "        \n",
    "        print(\"正在调整图片大小至{0}x{1}... \\n\".format(w,h))\n",
    "        for pic in os.listdir(self.imagePath):            \n",
    "            if pic[-3:].lower()==\"jpg\":\n",
    "                _img=Image.open(os.path.join(self.imagePath,pic))\n",
    "                img=_img.resize((w,h))\n",
    "                img.save(os.path.join(self.imagePath,pic))\n",
    "        print(\"done \\n\")\n",
    "                                                \n",
    "\n",
    "    def outpageNum(self):\n",
    "        pgn=[]\n",
    "        \n",
    "        if isinstance(self.pagenum[0],str):\n",
    "            if \"-\" in self.pagenum[0]:\n",
    "                firstpage=self.pagenum[0][:self.pagenum[0].find(\"-\")]\n",
    "                lastpage=self.pagenum[0][self.pagenum[0].find(\"-\")+1:]\n",
    "                for i in range(int(firstpage)-1,int(lastpage)-1):\n",
    "                    pgn.append(i)\n",
    "                pgn.append(int(lastpage)-1) #包括最后一页\n",
    "            else:\n",
    "                pass\n",
    "        else:\n",
    "            pgn=[int(x)-1 for x in self.pagenum]\n",
    "\n",
    "\n",
    "        return pgn\n",
    "        \n",
    "    \n",
    "if __name__==\"__main__\":\n",
    "    pdf='//home//jack//data//大智小超//乐高//图纸//ev3micropythonv.pdf'\n",
    "    jpg='//home//jack//data//大智小超//乐高//图纸//output_pdf'\n",
    "    \n",
    "    pdf=pdfToImage(pdf,jpg,7,9,12,18)\n",
    "#     pdf.pdf2image()\n",
    "    pdf.image_adj(1024,576)\n",
    "    "
   ]
  },
  {
   "cell_type": "code",
   "execution_count": null,
   "metadata": {},
   "outputs": [],
   "source": []
  }
 ],
 "metadata": {
  "kernelspec": {
   "display_name": "Python 3",
   "language": "python",
   "name": "python3"
  },
  "language_info": {
   "codemirror_mode": {
    "name": "ipython",
    "version": 3
   },
   "file_extension": ".py",
   "mimetype": "text/x-python",
   "name": "python",
   "nbconvert_exporter": "python",
   "pygments_lexer": "ipython3",
   "version": "3.6.9-final"
  },
  "toc": {
   "base_numbering": 1,
   "nav_menu": {},
   "number_sections": true,
   "sideBar": true,
   "skip_h1_title": false,
   "title_cell": "Table of Contents",
   "title_sidebar": "Contents",
   "toc_cell": false,
   "toc_position": {},
   "toc_section_display": true,
   "toc_window_display": false
  }
 },
 "nbformat": 4,
 "nbformat_minor": 4
}