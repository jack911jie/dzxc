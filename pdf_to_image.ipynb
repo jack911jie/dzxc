{
 "cells": [
  {
   "cell_type": "code",
   "execution_count": 1,
   "metadata": {
    "code_folding": [
     29,
     46,
     56
    ],
    "scrolled": true
   },
   "outputs": [
    {
     "name": "stdout",
     "output_type": "stream",
     "text": [
<<<<<<< HEAD
      "正在读取Pdf文件…… \n",
      "\n"
     ]
    },
    {
     "name": "stderr",
     "output_type": "stream",
     "text": [
      "Exception in thread Thread-42:\n",
      "Traceback (most recent call last):\n",
      "  File \"c:\\users\\jack9\\appdata\\local\\programs\\python\\python37\\lib\\threading.py\", line 917, in _bootstrap_inner\n",
      "    self.run()\n",
      "  File \"c:\\users\\jack9\\appdata\\local\\programs\\python\\python37\\lib\\threading.py\", line 865, in run\n",
      "    self._target(*self._args, **self._kwargs)\n",
      "  File \"c:\\users\\jack9\\appdata\\local\\programs\\python\\python37\\lib\\subprocess.py\", line 1215, in _readerthread\n",
      "    buffer.append(fh.read())\n",
      "MemoryError\n",
      "\n"
=======
      "linux 系统 \n",
      "\n",
      "imagePath=/home/jack/文档/大智小超/output_pdf\n",
      "pdf2img时间= 3\n"
>>>>>>> c602faa18aac1b1c009d869241619b8fd02de7ef
     ]
    }
   ],
   "source": [
    "import os\n",
    "import fitz\n",
    "import datetime\n",
    "import platform\n",
    "import time\n",
    "from tqdm import tqdm\n",
    "# from PIL import Image\n",
    "# from pdf2image import convert_from_path,convert_from_bytes\n",
    "import tempfile\n",
    "# from pdf2image.exceptions import (\n",
    "#     PDFInfoNotInstalledError,\n",
    "#     PDFPageCountError,\n",
    "#     PDFSyntaxError\n",
    "# )\n",
    "\n",
    "class pdfToImage:\n",
    "    def __init__(self,pdfname, imagePath, *pageNum):\n",
    "        #涉及不同的操作系统，需转换\n",
    "        thissys=platform.platform().lower() \n",
    "        if 'windows' in thissys:\n",
    "            print(\"windows 系统 \\n\")\n",
    "            self.pdfname=pdfname.replace(\"/\",\"\\\\\")\n",
    "            self.imagePath=imagePath.replace(\"/\",\"\\\\\")\n",
    "        elif 'linux' in thissys:\n",
    "            print(\"linux 系统 \\n\")\n",
    "            self.pdfname=pdfname.replace(\"\\\\\",\"\\/\")\n",
    "            self.imagePath=imagePath.replace(\"\\\\\",\"\\/\")                                \n",
    "        self.pagenum=pageNum\n",
    "        \n",
    "    def pdf2image(self):\n",
    "        pgns=self.outpageNum()\n",
    "\n",
    "        \n",
    "        with tempfile.TemporaryDirectory() as path:\n",
    "            print(\"正在读取Pdf文件…… \\n\")\n",
    "            images_from_path = convert_from_path(self.pdfname)\n",
    "            print(\"文件总页数 {} 页。 \\n\".format(len(images_from_path)))\n",
    "            print(\"正在转换…… \\n\")   \n",
    "            time.sleep(0.5)\n",
    "            for pgn in tqdm(pgns):\n",
    "                if not os.path.exists(self.imagePath):\n",
    "                    os.makedirs(self.imagePath)\n",
    "                images_from_path[int(pgn)].save(self.imagePath+'/'+'psReport_%s.jpg' % str(int(pgn+1)).zfill(3),'jpeg')\n",
    "#             print(images_from_path)\n",
    "        print(\"done\")\n",
    "    \n",
    "    def image_adj(self,w,h):\n",
    "        \n",
    "        print(\"正在调整图片大小至{0}x{1}... \\n\".format(w,h))\n",
    "        for pic in os.listdir(self.imagePath):            \n",
    "            if pic[-3:].lower()==\"jpg\":\n",
    "                _img=Image.open(os.path.join(self.imagePath,pic))\n",
    "                img=_img.resize((w,h))\n",
    "                img.save(os.path.join(self.imagePath,pic))\n",
    "        print(\"done \\n\")                                                \n",
    "\n",
    "    def outpageNum(self):\n",
    "        pgn=[]\n",
    "        \n",
    "        if isinstance(self.pagenum[0],str):\n",
    "            if \"-\" in self.pagenum[0]:\n",
    "                firstpage=self.pagenum[0][:self.pagenum[0].find(\"-\")]\n",
    "                lastpage=self.pagenum[0][self.pagenum[0].find(\"-\")+1:]\n",
    "                for i in range(int(firstpage)-1,int(lastpage)-1):\n",
    "                    pgn.append(i)\n",
    "                pgn.append(int(lastpage)-1) #包括最后一页\n",
    "            else:\n",
    "                pass\n",
    "        else:\n",
    "            pgn=[int(x)-1 for x in self.pagenum]\n",
    "\n",
    "        return pgn\n",
    "    \n",
    "    def pyMuPDF_fitz(self):\n",
    "        pgns=self.outpageNum()\n",
    "        \n",
    "        startTime_pdf2img = datetime.datetime.now()#开始时间\n",
    "        print(\"imagePath=\"+self.imagePath)        \n",
    "        \n",
    "        pdfDoc = fitz.open(self.pdfname)\n",
    "        \n",
    "            \n",
    "        totalPageNum=pdfDoc.pageCount\n",
    "        \n",
    "        for pg in pgns:\n",
    "            page = pdfDoc[pg]\n",
    "            rotate = int(0)\n",
    "            # 每个尺寸的缩放系数为1.3，这将为我们生成分辨率提高2.6的图像。\n",
    "            # 此处若是不做设置，默认图片大小为：792X612, dpi=96\n",
    "            zoom_x = 1.33333333 #(1.33333333-->1056x816)   (2-->1584x1224)\n",
    "            zoom_y = 1.33333333\n",
    "            mat = fitz.Matrix(zoom_x, zoom_y).preRotate(rotate)\n",
    "            pix = page.getPixmap(matrix=mat, alpha=False)\n",
    "\n",
    "            pix.writePNG(self.imagePath+'/'+'images_%s.png' % str(pg+1).zfill(3))#将图片写入指定的文件夹内\n",
    "\n",
    "        endTime_pdf2img = datetime.datetime.now()#结束时间\n",
    "        print('pdf2img时间=',(endTime_pdf2img - startTime_pdf2img).seconds)\n",
    "        \n",
    "    \n",
    "if __name__==\"__main__\":\n",
<<<<<<< HEAD
    "    pdf='I:\\py\\wedo20.pdf'\n",
    "    jpg='I:/py/pdfimage'\n",
=======
    "    pdf='/home/jack/文档/大智小超/乐高教育.pdf'\n",
    "    jpg='/home/jack/文档/大智小超/output_pdf'\n",
>>>>>>> c602faa18aac1b1c009d869241619b8fd02de7ef
    "    \n",
    "    pdf=pdfToImage(pdf,jpg,\"12-18\")\n",
    "#     pdf.pdf2image()\n",
    "    pdf.pyMuPDF_fitz()\n",
    "#     pdf.image_adj(1024,576)\n",
    "    "
   ]
  },
  {
   "cell_type": "code",
   "execution_count": 1,
   "metadata": {},
   "outputs": [
    {
     "ename": "ModuleNotFoundError",
     "evalue": "No module named 'frontend'",
     "output_type": "error",
     "traceback": [
      "\u001b[0;31m---------------------------------------------------------------------------\u001b[0m",
      "\u001b[0;31mModuleNotFoundError\u001b[0m                       Traceback (most recent call last)",
      "\u001b[0;32m<ipython-input-1-4ef2a60ad626>\u001b[0m in \u001b[0;36m<module>\u001b[0;34m\u001b[0m\n\u001b[0;32m----> 1\u001b[0;31m \u001b[0;32mimport\u001b[0m \u001b[0msys\u001b[0m\u001b[0;34m,\u001b[0m \u001b[0mfitz\u001b[0m\u001b[0;34m\u001b[0m\u001b[0;34m\u001b[0m\u001b[0m\n\u001b[0m\u001b[1;32m      2\u001b[0m \u001b[0;32mimport\u001b[0m \u001b[0mos\u001b[0m\u001b[0;34m\u001b[0m\u001b[0;34m\u001b[0m\u001b[0m\n\u001b[1;32m      3\u001b[0m \u001b[0;32mimport\u001b[0m \u001b[0mdatetime\u001b[0m\u001b[0;34m\u001b[0m\u001b[0;34m\u001b[0m\u001b[0m\n\u001b[1;32m      4\u001b[0m \u001b[0;34m\u001b[0m\u001b[0m\n\u001b[1;32m      5\u001b[0m \u001b[0;32mdef\u001b[0m \u001b[0mpyMuPDF_fitz\u001b[0m\u001b[0;34m(\u001b[0m\u001b[0mpdfPath\u001b[0m\u001b[0;34m,\u001b[0m \u001b[0mimagePath\u001b[0m\u001b[0;34m)\u001b[0m\u001b[0;34m:\u001b[0m\u001b[0;34m\u001b[0m\u001b[0;34m\u001b[0m\u001b[0m\n",
      "\u001b[0;32m/usr/local/lib/python3.6/dist-packages/fitz/__init__.py\u001b[0m in \u001b[0;36m<module>\u001b[0;34m\u001b[0m\n\u001b[0;32m----> 1\u001b[0;31m \u001b[0;32mfrom\u001b[0m \u001b[0mfrontend\u001b[0m \u001b[0;32mimport\u001b[0m \u001b[0;34m*\u001b[0m\u001b[0;34m\u001b[0m\u001b[0;34m\u001b[0m\u001b[0m\n\u001b[0m\u001b[1;32m      2\u001b[0m \u001b[0;32mimport\u001b[0m \u001b[0mtools\u001b[0m\u001b[0;34m\u001b[0m\u001b[0;34m\u001b[0m\u001b[0m\n\u001b[1;32m      3\u001b[0m \u001b[0;32mimport\u001b[0m \u001b[0mos\u001b[0m\u001b[0;34m.\u001b[0m\u001b[0mpath\u001b[0m \u001b[0;32mas\u001b[0m \u001b[0mop\u001b[0m\u001b[0;34m\u001b[0m\u001b[0;34m\u001b[0m\u001b[0m\n\u001b[1;32m      4\u001b[0m \u001b[0;34m\u001b[0m\u001b[0m\n\u001b[1;32m      5\u001b[0m \u001b[0m__version__\u001b[0m \u001b[0;34m=\u001b[0m \u001b[0;34m'0.0.1dev2'\u001b[0m\u001b[0;34m\u001b[0m\u001b[0;34m\u001b[0m\u001b[0m\n",
      "\u001b[0;31mModuleNotFoundError\u001b[0m: No module named 'frontend'"
     ]
    }
   ],
   "source": [
    "import sys, fitz\n",
    "import os\n",
    "import datetime\n",
    " \n",
    "def pyMuPDF_fitz(pdfPath, imagePath):\n",
    "    startTime_pdf2img = datetime.datetime.now()#开始时间\n",
    "    \n",
    "    print(\"imagePath=\"+imagePath)\n",
    "    pdfDoc = fitz.open(pdfPath)\n",
    "    for pg in range(pdfDoc.pageCount):\n",
    "        page = pdfDoc[pg]\n",
    "        rotate = int(0)\n",
    "        # 每个尺寸的缩放系数为1.3，这将为我们生成分辨率提高2.6的图像。\n",
    "        # 此处若是不做设置，默认图片大小为：792X612, dpi=96\n",
    "        zoom_x = 1.33333333 #(1.33333333-->1056x816)   (2-->1584x1224)\n",
    "        zoom_y = 1.33333333\n",
    "        mat = fitz.Matrix(zoom_x, zoom_y).preRotate(rotate)\n",
    "        pix = page.getPixmap(matrix=mat, alpha=False)\n",
    "        \n",
    "        if not os.path.exists(imagePath):#判断存放图片的文件夹是否存在\n",
    "            os.makedirs(imagePath) # 若图片文件夹不存在就创建\n",
    "        \n",
    "        pix.writePNG(imagePath+'/'+'images_%s.png' % pg)#将图片写入指定的文件夹内\n",
    "        \n",
    "    endTime_pdf2img = datetime.datetime.now()#结束时间\n",
    "    print('pdf2img时间=',(endTime_pdf2img - startTime_pdf2img).seconds)\n",
    " \n",
    " \n",
    "if __name__ == \"__main__\":\n",
    "    pdfPath = '/home/jack/文档/乐高教育.pdf'\n",
    "    imagePath = '/home/jack/文档/大智小超/output_pdf'\n",
    "    pyMuPDF_fitz(pdfPath, imagePath)"
   ]
  }
 ],
 "metadata": {
  "kernelspec": {
   "display_name": "Python 3",
   "language": "python",
   "name": "python3"
  },
  "language_info": {
   "codemirror_mode": {
    "name": "ipython",
    "version": 3
   },
   "file_extension": ".py",
   "mimetype": "text/x-python",
   "name": "python",
   "nbconvert_exporter": "python",
   "pygments_lexer": "ipython3",
   "version": "3.7.4"
  },
  "toc": {
   "base_numbering": 1,
   "nav_menu": {},
   "number_sections": true,
   "sideBar": true,
   "skip_h1_title": false,
   "title_cell": "Table of Contents",
   "title_sidebar": "Contents",
   "toc_cell": false,
   "toc_position": {},
   "toc_section_display": true,
   "toc_window_display": false
  }
 },
 "nbformat": 4,
 "nbformat_minor": 4
}
