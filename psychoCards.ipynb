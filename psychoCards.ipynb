{
 "cells": [
  {
   "cell_type": "code",
   "execution_count": 155,
   "metadata": {
    "code_folding": [
     60
    ]
   },
   "outputs": [
    {
     "name": "stdout",
     "output_type": "stream",
     "text": [
      "['我的孩子不惩罚真的管不住怎么办', '管教是理解、鼓励和沟通。', '和孩子的沟通应当学会理解孩子的世界', '专注于解决问题，而不是惩罚。', '在过去的几十年中', '我们的社会和文化已经发生了深刻的变化', '所以', '我们教育孩子的方式也必须改变。', '惩罚短期来看也许管用', '但从长远来看', '它会造成反叛、抵制', '或不再信任自己价值的孩子。']\n",
      "[1, 2.955223880597015, 4.186567164179104, 3.4477611940298507, 1.9701492537313432, 4.432835820895522, 0.4925373134328358, 3.6940298507462686, 2.462686567164179, 1.4776119402985075, 2.216417910447761, 3.201492537313433]\n",
      "正在生成影片……\n",
      "重命名文件以排序……\n",
      "该文件夹内共有14个文件，没有符合重命名条件的文件。\n",
      "幻灯片01.JPG 我的孩子不惩罚真的管不住怎么办 0 1\n",
      "幻灯片02.JPG 管教是理解、鼓励和沟通。 1 2.955223880597015\n",
      "幻灯片03.JPG 和孩子的沟通应当学会理解孩子的世界 3.955223880597015 4.186567164179104\n",
      "幻灯片04.JPG 专注于解决问题，而不是惩罚。 8.14179104477612 3.4477611940298507\n",
      "幻灯片05.JPG 在过去的几十年中 11.589552238805972 1.9701492537313432\n",
      "幻灯片06.JPG 我们的社会和文化已经发生了深刻的变化 13.559701492537314 4.432835820895522\n",
      "幻灯片07.JPG 所以 17.992537313432837 0.4925373134328358\n",
      "幻灯片08.JPG 我们教育孩子的方式也必须改变。 18.485074626865675 3.6940298507462686\n",
      "幻灯片09.JPG 惩罚短期来看也许管用 22.179104477611943 2.462686567164179\n",
      "幻灯片10.JPG 但从长远来看 24.641791044776124 1.4776119402985075\n",
      "幻灯片11.JPG 它会造成反叛、抵制 26.119402985074633 2.216417910447761\n",
      "幻灯片12.JPG 或不再信任自己价值的孩子。 28.335820895522392 3.201492537313433\n"
     ]
    },
    {
     "name": "stderr",
     "output_type": "stream",
     "text": [
      "\r",
      "chunk:   0%|                                                                         | 0/627 [00:00<?, ?it/s, now=None]"
     ]
    },
    {
     "name": "stdout",
     "output_type": "stream",
     "text": [
      "Moviepy - Building video I:\\大智小超\\心理\\我的孩子不惩罚真的管不住怎么办\\我的孩子不惩罚真的管不住怎么办.mp4.\n",
      "MoviePy - Writing audio in 我的孩子不惩罚真的管不住怎么办TEMP_MPY_wvf_snd.mp3\n"
     ]
    },
    {
     "name": "stderr",
     "output_type": "stream",
     "text": [
      "t:   0%|                                                                             | 0/789 [00:00<?, ?it/s, now=None]"
     ]
    },
    {
     "name": "stdout",
     "output_type": "stream",
     "text": [
      "MoviePy - Done.\n",
      "Moviepy - Writing video I:\\大智小超\\心理\\我的孩子不惩罚真的管不住怎么办\\我的孩子不惩罚真的管不住怎么办.mp4\n",
      "\n"
     ]
    },
    {
     "name": "stderr",
     "output_type": "stream",
     "text": [
      "                                                                                                                       \r"
     ]
    },
    {
     "name": "stdout",
     "output_type": "stream",
     "text": [
      "Moviepy - Done !\n",
      "Moviepy - video ready I:\\大智小超\\心理\\我的孩子不惩罚真的管不住怎么办\\我的孩子不惩罚真的管不住怎么办.mp4\n",
      "完成影片\n"
     ]
    }
   ],
   "source": [
    "import os\n",
    "import re\n",
    "import pandas as pd\n",
    "import numpy as np\n",
    "from PIL import Image\n",
    "from PIL import ImageDraw  \n",
    "from PIL import ImageFont\n",
    "from moviepy.editor import *\n",
    "import moviepy.audio.fx.all as afx\n",
    "\n",
    "class psychoCards:\n",
    "    def __init__(self,xlsFn,title):\n",
    "        self.dir='I:\\大智小超\\心理'\n",
    "        self.xlsFn=xlsFn\n",
    "        self.title=title\n",
    "    \n",
    "    def makeList(self):\n",
    "        fn=os.path.join(self.dir,self.xlsFn)\n",
    "        ctns=pd.read_excel(fn)\n",
    "#         print(ctns['标题二'],ctns['内容'],ctns['详细'])\n",
    "        lst=np.array(ctns.loc[ctns['标题二']==self.title]['标题二']).tolist()\n",
    "        lst.extend(ctns.loc[ctns['标题二']==self.title]['内容'])\n",
    "#         lst.extend(ctns.loc[ctns['标题二']==self.title]['详细'])\n",
    "#         print(lst)\n",
    "        return lst\n",
    "    \n",
    "    def makePics(self):\n",
    "        txts=self.makeList()\n",
    "        title=txts[0]\n",
    "        txt='\\n'.join(txts[1:])\n",
    "        img=Image.open(os.path.join(self.dir,self.bg))\n",
    "        \n",
    "        font_title = ImageFont.truetype('C:\\Windows\\Fonts\\msyh.ttc',30)\n",
    "        font_txt = ImageFont.truetype('C:\\Windows\\Fonts\\msyh.ttc',20)\n",
    "        draw = ImageDraw.Draw(img)            \n",
    "        draw.text((20,int(img.size[1]*0.2)), title, fill = '#6AB34A',font=font_title)\n",
    "        draw.text((20,int(img.size[1]*0.3)), txt, fill = '#6AB34A',font=font_txt)\n",
    "        img.show()\n",
    "        \n",
    "    def makeMovie(self):\n",
    "        lst=self.makeList()\n",
    "        drtns=[]        \n",
    "        s=0\n",
    "        f=0\n",
    "        total_c=len(lst[1])\n",
    "        total_time=33\n",
    "        spd=total_time/total_c\n",
    "        \n",
    "        txt=[lst[0]]\n",
    "        txt.extend(lst[1].split('\\n'))\n",
    "        print(txt)\n",
    "        \n",
    "        drtns=[]\n",
    "        for t in txt:\n",
    "            drtns.append(len(t)*spd)        \n",
    "        drtns[0]=1\n",
    "        print(drtns)\n",
    "        print('正在生成影片……')\n",
    "        pics=self.re_name()\n",
    "        clips=[]\n",
    "        k=0\n",
    "        for pic in pics:\n",
    "            if pic.lower()[-3:]=='jpg':\n",
    "                print(pic,txt[k],f,drtns[k])\n",
    "                _img=ImageClip(os.path.join(self.dir,self.title,pic)).set_fps(25).set_start(f).set_duration(drtns[k]).resize((480,640))\n",
    "                f=f+drtns[k]\n",
    "                k+=1         \n",
    "                \n",
    "                clips.append(_img)\n",
    "        finalclip = CompositeVideoClip(clips)\n",
    "        \n",
    "        \n",
    "        \n",
    "        # 添加语音\n",
    "        BGM=AudioFileClip(os.path.join(self.dir,self.title,self.title+'.mp3'))\n",
    "        fa=BGM.set_start(5)\n",
    "#         final_audio = CompositeAudioClip([BGM,finalclip.audio]).set_duration(finalclip.duration)\n",
    "        mix=finalclip.set_audio(fa)\n",
    "        \n",
    "        out=os.path.join(self.dir,self.title,self.title+'.mp4')\n",
    "        mix.write_videofile(out)\n",
    "        \n",
    "        print('完成影片')\n",
    "    \n",
    "    def re_name(self):\n",
    "        print('重命名文件以排序……')\n",
    "        old=os.path.join(self.dir,self.title)\n",
    "        fn_list=os.listdir(old)\n",
    "        ptn=r'幻灯片.*jpg'\n",
    "        n=len(fn_list)\n",
    "        m=0\n",
    "        for fn in fn_list:\n",
    "            q=re.match(ptn,fn.lower())\n",
    "            if q and len(fn)<9:\n",
    "                new=os.path.join(self.dir,self.title,fn[0:3]+'0'+fn[3:])\n",
    "                os.rename(os.path.join(old,fn),new)\n",
    "                m+=1\n",
    "                \n",
    "            if m>0:\n",
    "                p='该文件夹内共有{0}个文件，重命名{1}个。'.format(n,m)\n",
    "            else:\n",
    "                p='该文件夹内共有{0}个文件，没有符合重命名条件的文件。'.format(n)\n",
    "        print(p)\n",
    "        new_list=os.listdir(old)\n",
    "        return new_list\n",
    "        \n",
    "if __name__=='__main__':\n",
    "    mycard=psychoCards('正面管教.xlsx','我的孩子不惩罚真的管不住怎么办')\n",
    "    mycard.makeMovie()\n",
    "    "
   ]
  }
 ],
 "metadata": {
  "kernelspec": {
   "display_name": "Python 3",
   "language": "python",
   "name": "python3"
  },
  "language_info": {
   "codemirror_mode": {
    "name": "ipython",
    "version": 3
   },
   "file_extension": ".py",
   "mimetype": "text/x-python",
   "name": "python",
   "nbconvert_exporter": "python",
   "pygments_lexer": "ipython3",
   "version": "3.7.0"
  },
  "toc": {
   "base_numbering": 1,
   "nav_menu": {},
   "number_sections": true,
   "sideBar": true,
   "skip_h1_title": false,
   "title_cell": "Table of Contents",
   "title_sidebar": "Contents",
   "toc_cell": false,
   "toc_position": {},
   "toc_section_display": true,
   "toc_window_display": false
  }
 },
 "nbformat": 4,
 "nbformat_minor": 2
}
