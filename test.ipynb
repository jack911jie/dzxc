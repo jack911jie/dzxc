{
 "cells": [
  {
   "cell_type": "code",
   "execution_count": 1,
   "metadata": {
    "tags": []
   },
   "outputs": [
    {
     "output_type": "stream",
     "name": "stdout",
     "text": "[[' ID和 ICID卡 ：全称', '为身份识别卡', ' （Identification', ' Card），是一种不', '可写入的感应卡 ，', '含固定的编号 ，主', '要有台湾 SYRIS的', ' EM格式 、美国', ' HIDMOTOROLA等各', '类 ID卡 ，IC卡 ：全', '称集成电路卡', ' （Integrated', ' Circuit Card），', '又称智能卡', ' （Smart Card）。', '可读写 ，容量大 ，', '有加密功能 ，数据', '记录可靠 ，使用更', '方便 ，如一卡通系', '统 ，消费系统等 ，', '目前主要有', ' PHILIPS的 Mifare', '系列卡主要区别', ' ：ID卡不可写入数', '据 ，其记录内容 (', '卡号 )只可由芯片', '生产厂一次性写入', ' ，开发商只可读出', '卡号加以利用 ,无', '法根据系统的实际', '需要制订新的号码', '管理制度 ；而 IC卡', '不仅可由授权用户', '读出大量数据 ，而', '且亦可由授权用户', '写入大量数据 (如', '新的卡号 ,用户的', '权限 ,用户资料等', ' )，IC卡所记录内', '容可反复擦写']]\n"
    }
   ],
   "source": [
    "import composing\n",
    "\n",
    "\n",
    "\n",
    "\n",
    "t=\"ID和ICID卡：全称为身份识别卡（Identification Card），是一种不可写入的感应卡，含固定的编号，主要有台湾SYRIS的EM格式、美国HIDMOTOROLA等各类ID卡，IC卡：全称集成电路卡（Integrated Circuit Card），又称智能卡（Smart Card）。可读写，容量大，有加密功能，数据记录可靠，使用更方便，如一卡通系统，消费系统等，目前主要有PHILIPS的Mifare系列卡主要区别：ID卡不可写入数据，其记录内容(卡号)只可由芯片生产厂一次性写入，开发商只可读出卡号加以利用,无法根据系统的实际需要制订新的号码管理制度；而IC卡不仅可由授权用户读出大量数据，而且亦可由授权用户写入大量数据(如新的卡号,用户的权限,用户资料等)，IC卡所记录内容可反复擦写\"\n",
    "\n",
    "k=composing.split_txt_Chn_eng(300,35,t)\n",
    "print(k)"
   ]
  }
 ],
 "metadata": {
  "kernelspec": {
   "display_name": "Python 3",
   "language": "python",
   "name": "python3"
  },
  "language_info": {
   "codemirror_mode": {
    "name": "ipython",
    "version": 3
   },
   "file_extension": ".py",
   "mimetype": "text/x-python",
   "name": "python",
   "nbconvert_exporter": "python",
   "pygments_lexer": "ipython3",
   "version": "3.8.3-final"
  },
  "toc": {
   "base_numbering": 1,
   "nav_menu": {},
   "number_sections": true,
   "sideBar": true,
   "skip_h1_title": false,
   "title_cell": "Table of Contents",
   "title_sidebar": "Contents",
   "toc_cell": false,
   "toc_position": {},
   "toc_section_display": true,
   "toc_window_display": false
  }
 },
 "nbformat": 4,
 "nbformat_minor": 4
}