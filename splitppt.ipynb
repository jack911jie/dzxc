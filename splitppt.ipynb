{
 "cells": [
  {
   "cell_type": "code",
   "execution_count": 35,
   "metadata": {},
   "outputs": [
    {
     "name": "stdout",
     "output_type": "stream",
     "text": [
      "[[0, 1, 2, 3, 4, 5, 6], [7, 8, 9, 10, 11, 12, 13, 14, 15, 16, 17, 18, 19, 20, 21, 22, 23, 24], [25, 26, 27, 28, 29, 30, 31, 32, 33, 34, 35, 36, 37, 38, 39], [40, 41, 42, 43, 44, 45, 46, 47], [48, 49, 50, 51, 52, 53, 54, 55, 56, 57, 58]]\n"
     ]
    }
   ],
   "source": [
    "import os\n",
    "from pptx import Presentation\n",
    "\n",
    "class split_pptx:\n",
    "    def __init__(self,*num):\n",
    "        self.num=num\n",
    "        self.pcs=int(len(self.num))+1\n",
    "        \n",
    "    def split(self,ppt):\n",
    "#         print(self.pcs)\n",
    "        self.prs=Presentation(ppt)\n",
    "        self.slides=self.prs.slides\n",
    "        self.end=len(self.slides)\n",
    "        list=[]\n",
    "        \n",
    "        n=0\n",
    "        for i in self.num:\n",
    "            _list=[]\n",
    "            for j in range(n,int(i)):\n",
    "                _list.append(j)\n",
    "                n+=1\n",
    "#             print(_list)\n",
    "            list.append(_list)\n",
    "        print(list)\n",
    "            \n",
    "            \n",
    "    def del_save(self,p_to_del):\n",
    "        slist = prs.slides._sldIdLst\n",
    "        # 字典生成式\n",
    "        pages = {i : sld for i, sld in enumerate(self.prs.slides._sldIdLst)}\n",
    "        # 用值删除第2，4 张幻灯片\n",
    "        slist.remove(pages[1])\n",
    "                             \n",
    "    def mkdir(self):\n",
    "        _path=os.\n",
    "                                                 \n",
    "\n",
    "if __name__==\"__main__\":\n",
    "    a=\"//home//jack//文档//大智小超//乐高//test.pptx\"\n",
    "    spt=split_pptx(7,25,40,48,59)\n",
    "    spt.split(a)"
   ]
  }
 ],
 "metadata": {
  "kernelspec": {
   "display_name": "Python 3",
   "language": "python",
   "name": "python3"
  },
  "language_info": {
   "codemirror_mode": {
    "name": "ipython",
    "version": 3
   },
   "file_extension": ".py",
   "mimetype": "text/x-python",
   "name": "python",
   "nbconvert_exporter": "python",
   "pygments_lexer": "ipython3",
   "version": "3.6.9"
  },
  "toc": {
   "base_numbering": 1,
   "nav_menu": {},
   "number_sections": true,
   "sideBar": true,
   "skip_h1_title": false,
   "title_cell": "Table of Contents",
   "title_sidebar": "Contents",
   "toc_cell": false,
   "toc_position": {},
   "toc_section_display": true,
   "toc_window_display": false
  }
 },
 "nbformat": 4,
 "nbformat_minor": 4
}
