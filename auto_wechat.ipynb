{
 "cells": [
  {
   "cell_type": "code",
   "execution_count": null,
   "metadata": {
    "code_folding": []
   },
   "outputs": [],
   "source": [
    "import pyautogui\n",
    "import pyperclip\n",
    "import os,sys\n",
    "import time\n",
    "pyautogui.PAUSE=1\n",
    "\n",
    "            \n",
    "class sendMsg:\n",
    "    def __init__(self,name,msg):\n",
    "        self.name=name\n",
    "        self.msg=msg\n",
    "        \n",
    "    def send(self):\n",
    "        os.system(\"i:/py/launchWechat.bat\")    \n",
    "        time.sleep(1)\n",
    "        srch=pyautogui.locateOnScreen(\"i://py//pic_search.png\",grayscale=True)\n",
    "        print(\"搜索框坐标找到： \",srch,'\\n')\n",
    "        if srch:\n",
    "            print(\"找到搜索框，开始搜索 {}\\n\".format(self.name))\n",
    "            srch_posL,srch_posT,srch_wid,srch_ht=srch\n",
    "            pyperclip.copy(self.name)\n",
    "            pyautogui.leftClick(x=srch_posL+srch_wid/2,y=srch_posT+srch_ht/2)\n",
    "            pyautogui.hotkey('ctrl','v')\n",
    "            pyautogui.leftClick(x=srch_posL+srch_wid/2,y=srch_posT+srch_ht/2+85)\n",
    "            \n",
    "            #输入信息\n",
    "            print(\"正在输入信息\\n\")\n",
    "            pyperclip.copy(self.msg)\n",
    "            pyautogui.hotkey('ctrl','v')\n",
    "            \n",
    "            #发送信息\n",
    "            print(\"正在发送信息\\n\")\n",
    "            pyautogui.hotkey('enter')    \n",
    "            print(\"done\")\n",
    "            \n",
    "        else:\n",
    "            print(\"找不到搜索框，退出。\")\n",
    "            sys.exit(0)\n",
    "            \n",
    "if __name__==\"__main__\":\n",
    "    mymsg=sendMsg(\"文件传输助手\",\"这是一条测试内容。\")\n",
    "    mymsg.send()"
   ]
  }
 ],
 "metadata": {
  "kernelspec": {
   "display_name": "Python 3",
   "language": "python",
   "name": "python3"
  },
  "language_info": {
   "codemirror_mode": {
    "name": "ipython",
    "version": 3
   },
   "file_extension": ".py",
   "mimetype": "text/x-python",
   "name": "python",
   "nbconvert_exporter": "python",
   "pygments_lexer": "ipython3",
   "version": "3.7.4"
  },
  "toc": {
   "base_numbering": 1,
   "nav_menu": {},
   "number_sections": true,
   "sideBar": true,
   "skip_h1_title": false,
   "title_cell": "Table of Contents",
   "title_sidebar": "Contents",
   "toc_cell": false,
   "toc_position": {},
   "toc_section_display": true,
   "toc_window_display": false
  }
 },
 "nbformat": 4,
 "nbformat_minor": 4
}
