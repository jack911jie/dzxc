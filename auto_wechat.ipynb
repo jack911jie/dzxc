{
 "cells": [
  {
   "cell_type": "code",
   "execution_count": null,
   "metadata": {},
   "outputs": [],
   "source": [
    "import pyautogui\n",
    "import pyperclip\n",
    "import os\n",
    "import time\n",
    "\n",
    "print(pyautogui.position())\n",
    "# wch_pos= pyautogui.locateOnScreen('wechat_logo.png',grayscale=True)\n",
    "# wch_posL,wch_posT,wch_wid,wch_ht=wch_pos\n",
    "time.sleep(2)\n",
    "pyautogui.doubleClick(103,440)\n",
    "\n",
    "time.sleep(2)\n",
    "print(\"find wechat:\",pyautogui.locateOnScreen('wechat_logo.png',grayscale=True))\n",
    "if pyautogui.locateOnScreen('wechat_logo.png',grayscale=True):\n",
    "#     pyautogui.moveTo(wch_posL+wch_wid/2,wch_posT+wch_ht/2,duration=2)\n",
    "    wch_posL,wch_posT,wch_wid,wch_ht=pyautogui.locateOnScreen('wechat_logo.png',grayscale=True)\n",
    "#     pyautogui.doubleClick(x=wch_posL+wch_wid/2,y=wch_posT+wch_ht/2)\n",
    "    \n",
    "time.sleep(2)    \n",
    "print(\"search:\",pyautogui.locateOnScreen('pic_search.png',grayscale=True))\n",
    "if pyautogui.locateOnScreen('pic_search.png',grayscale=True):\n",
    "    srch_posL,srch_posT,srch_wid,srch_ht=pyautogui.locateOnScreen('pic_search.png',grayscale=True)\n",
    "    pyperclip.copy('大智童鞋会')\n",
    "    pyautogui.leftClick(x=srch_posL+srch_wid/2,y=srch_posT+srch_ht/2)\n",
    "    time.sleep(1)\n",
    "    pyautogui.hotkey('ctrl','v')\n",
    "    pyautogui.leftClick(x=srch_posL+srch_wid/2,y=srch_posT+srch_ht/2+85)\n",
    "    \n",
    "time.sleep(2)\n",
    "print(\"msgbox:\",pyautogui.locateOnScreen('pic_msgbox.png',grayscale=True))\n",
    "if pyautogui.locateOnScreen('pic_msgbox.png'):   \n",
    "    msgbox_posL,msgbox_posT,msgbox_wid,msgbox_ht=pyautogui.locateOnScreen('pic_msgbox.png',grayscale=True)\n",
    "    pyautogui.leftClick(x=msgbox_posL+msgbox_wid/2,y=msgbox_posT+msgbox_ht/2)\n",
    "    time.sleep(2)\n",
    "    pyperclip.copy('这个是测试python发出的信息，不用回复。')\n",
    "    pyautogui.hotkey('ctrl','v')\n",
    "\n",
    "time.sleep(2)\n",
    "print(\"sending\",pyautogui.locateOnScreen('pic_send.png'))\n",
    "if pyautogui.locateOnScreen('pic_send.png',grayscale=True):\n",
    "    send_posL,send_posT,send_wid,send_ht=pyautogui.locateOnScreen('pic_send.png',grayscale=True)\n",
    "      \n",
    "#     pyautogui.leftClick(x=send_posL+send_wid/2,y=send_posT+send_ht/2)\n",
    "time.sleep(2)\n",
    "pyautogui.hotkey('enter')  \n",
    "    \n",
    "print(\"done\")"
   ]
  }
 ],
 "metadata": {
  "kernelspec": {
   "display_name": "Python 3",
   "language": "python",
   "name": "python3"
  },
  "language_info": {
   "codemirror_mode": {
    "name": "ipython",
    "version": 3
   },
   "file_extension": ".py",
   "mimetype": "text/x-python",
   "name": "python",
   "nbconvert_exporter": "python",
   "pygments_lexer": "ipython3",
   "version": "3.7.4"
  },
  "toc": {
   "base_numbering": 1,
   "nav_menu": {},
   "number_sections": true,
   "sideBar": true,
   "skip_h1_title": false,
   "title_cell": "Table of Contents",
   "title_sidebar": "Contents",
   "toc_cell": false,
   "toc_position": {},
   "toc_section_display": true,
   "toc_window_display": false
  }
 },
 "nbformat": 4,
 "nbformat_minor": 4
}
