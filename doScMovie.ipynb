{
 "cells": [
  {
   "cell_type": "code",
   "execution_count": 7,
   "metadata": {
    "code_folding": [
     41,
     81
    ],
    "scrolled": false
   },
   "outputs": [
    {
     "name": "stdout",
     "output_type": "stream",
     "text": [
      "开始处理字幕……\n",
      "\n",
      "第二行测试\n",
      "第三行测试\n",
      "哈哈哈\n",
      "可轩呆罟果功\n",
      "呆功 要大规模棋士大夫械栽在\n",
      "工要大规模革茜模压工\n",
      "其五正反处代 \n",
      "Moviepy - Building video I:\\大智小超\\tello\\out.mp4.\n",
      "MoviePy - Writing audio in %s\n"
     ]
    },
    {
     "name": "stderr",
     "output_type": "stream",
     "text": [
      "                                                                       \r"
     ]
    },
    {
     "name": "stdout",
     "output_type": "stream",
     "text": [
      "MoviePy - Done.\n",
      "Moviepy - Writing video I:\\大智小超\\tello\\out.mp4\n",
      "\n"
     ]
    },
    {
     "name": "stderr",
     "output_type": "stream",
     "text": [
      "                                                                       \r"
     ]
    },
    {
     "name": "stdout",
     "output_type": "stream",
     "text": [
      "Moviepy - Done !\n",
      "Moviepy - video ready I:\\大智小超\\tello\\out.mp4\n"
     ]
    }
   ],
   "source": [
    "import os\n",
    "import re\n",
    "from moviepy.editor import *\n",
    "import moviepy.audio.fx.all as afx\n",
    "import pandas as pd\n",
    "import numpy as np\n",
    "from PIL import Image\n",
    "from PIL import ImageDraw  \n",
    "from PIL import ImageFont\n",
    "import psutil\n",
    "\n",
    "class SciMovie:\n",
    "    def __init__(self,pth,vName):\n",
    "        self.pth=pth\n",
    "        self.vName=vName\n",
    "        self.subtitle=os.path.join(pth,vName[0:-4]+'_subtitle.xlsx')\n",
    "        \n",
    "    def expt(self):\n",
    "        df=pd.read_excel(self.subtitle)\n",
    "        txt_list=np.array(df).tolist()\n",
    "        \n",
    "        showTime=2\n",
    "        brkTime=0.5\n",
    "        \n",
    "        mainV_src=os.path.join(self.pth,self.vName)\n",
    "        \n",
    "        clips=[]\n",
    "        \n",
    "        \n",
    "        mainvideo=VideoFileClip(mainV_src)\n",
    "        size=[mainvideo.w,mainvideo.h] #影片的分辨率        \n",
    "        clips.append(mainvideo)\n",
    "        \n",
    "        subtitles=self.Gen_subT(txt_list,5,showTime,brkTime,40,size)\n",
    "        clips.extend(subtitles)\n",
    "        \n",
    "        finalclip = CompositeVideoClip(clips)\n",
    "        outName=os.path.join(self.pth,'out.mp4')\n",
    "        finalclip.write_videofile(outName)\n",
    "        self.killProcess()\n",
    "        \n",
    "    def Gen_subT(self,txtlist,startTime,showTime,brkTime,totalTime,size):\n",
    "        secs=len(txtlist)\n",
    "        subTime=(showTime+brkTime)*secs\n",
    "        if subTime>totalTime:\n",
    "            print('字幕时间大于影片时间，退出。\\n')\n",
    "            sys.exit()\n",
    "        else:   \n",
    "            print('开始处理字幕……\\n')\n",
    "            fsz=40 #字体大小\n",
    "            clips=[]\n",
    "            bgH=60\n",
    "            bgX=0\n",
    "            bgY=size[1]-bgH-20\n",
    "            #subX会变，在循环中计算\n",
    "            subY=bgY+(bgH-fsz)\n",
    "            \n",
    "            n=0\n",
    "            for t in txtlist:   \n",
    "                sublen=len(t[0])*fsz\n",
    "                subX=(size[0]-sublen)/2\n",
    "                if subX<0:\n",
    "                    print('错误： ',t,' —文字长度太长，退出。\\n')\n",
    "                    sys.exit()\n",
    "                print(t[0])\n",
    "                bgclip=ColorClip(size=(size[0],bgH),color=[255,255,255]).set_opacity(0.6).set_position((bgX,bgY)).set_start(startTime).set_duration(showTime).crossfadein(0.5).crossfadeout(0.5)\n",
    "                clips.append(bgclip)\n",
    "\n",
    "                text = TextClip(txt=t[0], \\\n",
    "                        fontsize=fsz, \\\n",
    "                        font='Microsoft-YaHei-&-Microsoft-YaHei-UI',color='#0F418B') \\\n",
    "                        .set_pos((subX,1005)) \\\n",
    "                        .set_start(startTime) \\\n",
    "                        .set_duration(showTime).crossfadein(0.5).crossfadeout(0.5)\n",
    "                clips.append(text)\n",
    "                startTime=startTime+showTime+brkTime\n",
    "                \n",
    "            return clips\n",
    "        \n",
    "\n",
    "        \n",
    "    def killProcess(self):\n",
    "        # 处理python程序在运行中出现的异常和错误\n",
    "        try:\n",
    "            # pids方法查看系统全部进程\n",
    "            pids = psutil.pids()\n",
    "            for pid in pids:\n",
    "                # Process方法查看单个进程\n",
    "                p = psutil.Process(pid)\n",
    "                # print('pid-%s,pname-%s' % (pid, p.name()))\n",
    "                # 进程名\n",
    "                if p.name() == 'ffmpeg-win64-v4.1.exe':\n",
    "                    # 关闭任务 /f是强制执行，/im对应程序名\n",
    "                    cmd = 'taskkill /f /im ffmpeg-win64-v4.1.exe  2>nul 1>null'\n",
    "                    # python调用Shell脚本执行cmd命令\n",
    "                    os.system(cmd)\n",
    "        except:\n",
    "            pass\n",
    "        \n",
    "if __name__=='__main__':\n",
    "    myMovie=SciMovie('I:\\\\大智小超\\\\tello','12月视频.mp4')\n",
    "    myMovie.expt()"
   ]
  }
 ],
 "metadata": {
  "kernelspec": {
   "display_name": "Python 3.7.4 64-bit ('base': conda)",
   "language": "python",
   "name": "python37464bitbasecondaae9dddbca60f4ee2b2ed001d01f0a8f8"
  },
  "language_info": {
   "codemirror_mode": {
    "name": "ipython",
    "version": 3
   },
   "file_extension": ".py",
   "mimetype": "text/x-python",
   "name": "python",
   "nbconvert_exporter": "python",
   "pygments_lexer": "ipython3",
   "version": "3.7.4"
  },
  "toc": {
   "base_numbering": 1,
   "nav_menu": {},
   "number_sections": true,
   "sideBar": true,
   "skip_h1_title": false,
   "title_cell": "Table of Contents",
   "title_sidebar": "Contents",
   "toc_cell": false,
   "toc_position": {},
   "toc_section_display": true,
   "toc_window_display": false
  }
 },
 "nbformat": 4,
 "nbformat_minor": 4
}
