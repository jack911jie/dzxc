{
 "cells": [
  {
   "cell_type": "code",
   "execution_count": 24,
   "metadata": {},
   "outputs": [
    {
     "name": "stdout",
     "output_type": "stream",
     "text": [
      "邮件发送成功\n"
     ]
    }
   ],
   "source": [
    "\n",
    "#coding:utf-8\n",
    "import smtplib\n",
    "from email.mime.text import MIMEText\n",
    "from email.header import Header\n",
    " \n",
    "# 第三方 SMTP 服务\n",
    "mail_host=\"smtp.qq.com\"  #设置服务器\n",
    "mail_user=\"jack911jie@qq.com\"    #用户名\n",
    "mail_pass=\"gmxuqohzcchobgbc\"   #口令,QQ邮箱是输入授权码，在qq邮箱设置 里用验证过的手机发送短信获得，不含空格\n",
    " \n",
    " \n",
    "sender = 'jack911jie@qq.com'\n",
    "receivers = ['11486946@qq.com','jack911jie@qq.com']  # 接收邮件，可设置为你的QQ邮箱或者其他邮箱\n",
    " \n",
    "message = MIMEText('嘿！根本就不好！！！', 'plain', 'utf-8')\n",
    "message['From'] = Header(\"myoffice\", 'utf-8')\n",
    "message['To'] =  Header(\"mailbox\", 'utf-8')\n",
    " \n",
    "subject = 'python提醒'\n",
    "message['Subject'] = Header(subject, 'utf-8')\n",
    " \n",
    "try:\n",
    "  smtpObj = smtplib.SMTP_SSL(mail_host, 465) \n",
    "  smtpObj.login(mail_user,mail_pass)  \n",
    "  smtpObj.sendmail(sender, receivers, message.as_string())\n",
    "  smtpObj.quit()\n",
    "  print (u\"邮件发送成功\")\n",
    "except smtplib.SMTPException as e:\n",
    "  print(e)"
   ]
  }
 ],
 "metadata": {
  "kernelspec": {
   "display_name": "Python 3",
   "language": "python",
   "name": "python3"
  },
  "language_info": {
   "codemirror_mode": {
    "name": "ipython",
    "version": 3
   },
   "file_extension": ".py",
   "mimetype": "text/x-python",
   "name": "python",
   "nbconvert_exporter": "python",
   "pygments_lexer": "ipython3",
   "version": "3.7.4"
  },
  "toc": {
   "base_numbering": 1,
   "nav_menu": {},
   "number_sections": true,
   "sideBar": true,
   "skip_h1_title": false,
   "title_cell": "Table of Contents",
   "title_sidebar": "Contents",
   "toc_cell": false,
   "toc_position": {},
   "toc_section_display": true,
   "toc_window_display": false
  }
 },
 "nbformat": 4,
 "nbformat_minor": 2
}
